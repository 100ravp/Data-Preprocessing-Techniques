{
 "cells": [
  {
   "cell_type": "code",
   "execution_count": 9,
   "metadata": {},
   "outputs": [],
   "source": [
    "import numpy as np\n",
    "import pandas as pd\n",
    "import matplotlib.pyplot as plt\n",
    "import seaborn as sns\n",
    "from sklearn.model_selection import train_test_split\n",
    "from sklearn.preprocessing import RobustScaler\n",
    "import pandas as pd\n",
    "pd.options.mode.chained_assignment = None \n",
    "%matplotlib inline"
   ]
  },
  {
   "cell_type": "code",
   "execution_count": 10,
   "metadata": {},
   "outputs": [],
   "source": [
    "#loading the data\n",
    "data = pd.read_csv(\"Clean_data\")"
   ]
  },
  {
   "cell_type": "code",
   "execution_count": 11,
   "metadata": {},
   "outputs": [],
   "source": [
    "#subsetting the data\n",
    "data = data[[\"LotFrontage\", \"LotArea\", \"1stFlrSF\", \"GrLivArea\",\"SalePrice\"]]\n"
   ]
  },
  {
   "cell_type": "code",
   "execution_count": 12,
   "metadata": {},
   "outputs": [],
   "source": [
    "#splitting the data\n",
    "X_train, X_test, y_train, y_test = train_test_split(data, \n",
    "    data['SalePrice'],  \n",
    "    test_size=0.3,  \n",
    "    random_state=0)"
   ]
  },
  {
   "cell_type": "code",
   "execution_count": 13,
   "metadata": {},
   "outputs": [
    {
     "data": {
      "text/html": [
       "<div>\n",
       "<style scoped>\n",
       "    .dataframe tbody tr th:only-of-type {\n",
       "        vertical-align: middle;\n",
       "    }\n",
       "\n",
       "    .dataframe tbody tr th {\n",
       "        vertical-align: top;\n",
       "    }\n",
       "\n",
       "    .dataframe thead th {\n",
       "        text-align: right;\n",
       "    }\n",
       "</style>\n",
       "<table border=\"1\" class=\"dataframe\">\n",
       "  <thead>\n",
       "    <tr style=\"text-align: right;\">\n",
       "      <th></th>\n",
       "      <th>LotFrontage</th>\n",
       "      <th>LotArea</th>\n",
       "      <th>1stFlrSF</th>\n",
       "      <th>GrLivArea</th>\n",
       "      <th>SalePrice</th>\n",
       "    </tr>\n",
       "  </thead>\n",
       "  <tbody>\n",
       "    <tr>\n",
       "      <th>count</th>\n",
       "      <td>1022.000000</td>\n",
       "      <td>1022.000000</td>\n",
       "      <td>1022.000000</td>\n",
       "      <td>1022.000000</td>\n",
       "      <td>1022.000000</td>\n",
       "    </tr>\n",
       "    <tr>\n",
       "      <th>mean</th>\n",
       "      <td>67.880626</td>\n",
       "      <td>10567.966732</td>\n",
       "      <td>1161.722114</td>\n",
       "      <td>1522.137965</td>\n",
       "      <td>180586.228963</td>\n",
       "    </tr>\n",
       "    <tr>\n",
       "      <th>std</th>\n",
       "      <td>21.168450</td>\n",
       "      <td>10291.276619</td>\n",
       "      <td>373.986135</td>\n",
       "      <td>517.810449</td>\n",
       "      <td>78139.173947</td>\n",
       "    </tr>\n",
       "    <tr>\n",
       "      <th>min</th>\n",
       "      <td>21.000000</td>\n",
       "      <td>1300.000000</td>\n",
       "      <td>334.000000</td>\n",
       "      <td>334.000000</td>\n",
       "      <td>34900.000000</td>\n",
       "    </tr>\n",
       "    <tr>\n",
       "      <th>25%</th>\n",
       "      <td>60.000000</td>\n",
       "      <td>7742.500000</td>\n",
       "      <td>884.000000</td>\n",
       "      <td>1140.250000</td>\n",
       "      <td>130312.500000</td>\n",
       "    </tr>\n",
       "    <tr>\n",
       "      <th>50%</th>\n",
       "      <td>62.000000</td>\n",
       "      <td>9536.000000</td>\n",
       "      <td>1095.000000</td>\n",
       "      <td>1479.000000</td>\n",
       "      <td>163000.000000</td>\n",
       "    </tr>\n",
       "    <tr>\n",
       "      <th>75%</th>\n",
       "      <td>79.000000</td>\n",
       "      <td>11596.000000</td>\n",
       "      <td>1391.000000</td>\n",
       "      <td>1790.000000</td>\n",
       "      <td>214800.000000</td>\n",
       "    </tr>\n",
       "    <tr>\n",
       "      <th>max</th>\n",
       "      <td>313.000000</td>\n",
       "      <td>215245.000000</td>\n",
       "      <td>3228.000000</td>\n",
       "      <td>4676.000000</td>\n",
       "      <td>755000.000000</td>\n",
       "    </tr>\n",
       "  </tbody>\n",
       "</table>\n",
       "</div>"
      ],
      "text/plain": [
       "       LotFrontage        LotArea     1stFlrSF    GrLivArea      SalePrice\n",
       "count  1022.000000    1022.000000  1022.000000  1022.000000    1022.000000\n",
       "mean     67.880626   10567.966732  1161.722114  1522.137965  180586.228963\n",
       "std      21.168450   10291.276619   373.986135   517.810449   78139.173947\n",
       "min      21.000000    1300.000000   334.000000   334.000000   34900.000000\n",
       "25%      60.000000    7742.500000   884.000000  1140.250000  130312.500000\n",
       "50%      62.000000    9536.000000  1095.000000  1479.000000  163000.000000\n",
       "75%      79.000000   11596.000000  1391.000000  1790.000000  214800.000000\n",
       "max     313.000000  215245.000000  3228.000000  4676.000000  755000.000000"
      ]
     },
     "execution_count": 13,
     "metadata": {},
     "output_type": "execute_result"
    }
   ],
   "source": [
    "X_train.describe()"
   ]
  },
  {
   "cell_type": "code",
   "execution_count": 14,
   "metadata": {},
   "outputs": [],
   "source": [
    "scaler = RobustScaler()\n",
    "\n",
    "# fit the scaler to the train set\n",
    "scaler.fit(X_train)\n",
    "\n",
    "# transform train and test sets\n",
    "X_train_scale = pd.DataFrame(scaler.transform(X_train),columns = X_train.columns)\n",
    "X_test_scale = pd.DataFrame(scaler.transform(X_test),columns = X_train.columns)"
   ]
  },
  {
   "cell_type": "code",
   "execution_count": 15,
   "metadata": {},
   "outputs": [
    {
     "data": {
      "text/html": [
       "<div>\n",
       "<style scoped>\n",
       "    .dataframe tbody tr th:only-of-type {\n",
       "        vertical-align: middle;\n",
       "    }\n",
       "\n",
       "    .dataframe tbody tr th {\n",
       "        vertical-align: top;\n",
       "    }\n",
       "\n",
       "    .dataframe thead th {\n",
       "        text-align: right;\n",
       "    }\n",
       "</style>\n",
       "<table border=\"1\" class=\"dataframe\">\n",
       "  <thead>\n",
       "    <tr style=\"text-align: right;\">\n",
       "      <th></th>\n",
       "      <th>LotFrontage</th>\n",
       "      <th>LotArea</th>\n",
       "      <th>1stFlrSF</th>\n",
       "      <th>GrLivArea</th>\n",
       "      <th>SalePrice</th>\n",
       "    </tr>\n",
       "  </thead>\n",
       "  <tbody>\n",
       "    <tr>\n",
       "      <th>count</th>\n",
       "      <td>1022.000000</td>\n",
       "      <td>1022.000000</td>\n",
       "      <td>1022.000000</td>\n",
       "      <td>1022.000000</td>\n",
       "      <td>1022.000000</td>\n",
       "    </tr>\n",
       "    <tr>\n",
       "      <th>mean</th>\n",
       "      <td>0.309507</td>\n",
       "      <td>0.267800</td>\n",
       "      <td>0.131602</td>\n",
       "      <td>0.066392</td>\n",
       "      <td>0.208152</td>\n",
       "    </tr>\n",
       "    <tr>\n",
       "      <th>std</th>\n",
       "      <td>1.114129</td>\n",
       "      <td>2.670631</td>\n",
       "      <td>0.737645</td>\n",
       "      <td>0.796938</td>\n",
       "      <td>0.924861</td>\n",
       "    </tr>\n",
       "    <tr>\n",
       "      <th>min</th>\n",
       "      <td>-2.157895</td>\n",
       "      <td>-2.137278</td>\n",
       "      <td>-1.500986</td>\n",
       "      <td>-1.762216</td>\n",
       "      <td>-1.516201</td>\n",
       "    </tr>\n",
       "    <tr>\n",
       "      <th>25%</th>\n",
       "      <td>-0.105263</td>\n",
       "      <td>-0.465421</td>\n",
       "      <td>-0.416174</td>\n",
       "      <td>-0.521354</td>\n",
       "      <td>-0.386892</td>\n",
       "    </tr>\n",
       "    <tr>\n",
       "      <th>50%</th>\n",
       "      <td>0.000000</td>\n",
       "      <td>0.000000</td>\n",
       "      <td>0.000000</td>\n",
       "      <td>0.000000</td>\n",
       "      <td>0.000000</td>\n",
       "    </tr>\n",
       "    <tr>\n",
       "      <th>75%</th>\n",
       "      <td>0.894737</td>\n",
       "      <td>0.534579</td>\n",
       "      <td>0.583826</td>\n",
       "      <td>0.478646</td>\n",
       "      <td>0.613108</td>\n",
       "    </tr>\n",
       "    <tr>\n",
       "      <th>max</th>\n",
       "      <td>13.210526</td>\n",
       "      <td>53.382380</td>\n",
       "      <td>4.207101</td>\n",
       "      <td>4.920354</td>\n",
       "      <td>7.006954</td>\n",
       "    </tr>\n",
       "  </tbody>\n",
       "</table>\n",
       "</div>"
      ],
      "text/plain": [
       "       LotFrontage      LotArea     1stFlrSF    GrLivArea    SalePrice\n",
       "count  1022.000000  1022.000000  1022.000000  1022.000000  1022.000000\n",
       "mean      0.309507     0.267800     0.131602     0.066392     0.208152\n",
       "std       1.114129     2.670631     0.737645     0.796938     0.924861\n",
       "min      -2.157895    -2.137278    -1.500986    -1.762216    -1.516201\n",
       "25%      -0.105263    -0.465421    -0.416174    -0.521354    -0.386892\n",
       "50%       0.000000     0.000000     0.000000     0.000000     0.000000\n",
       "75%       0.894737     0.534579     0.583826     0.478646     0.613108\n",
       "max      13.210526    53.382380     4.207101     4.920354     7.006954"
      ]
     },
     "execution_count": 15,
     "metadata": {},
     "output_type": "execute_result"
    }
   ],
   "source": [
    "X_train_scale.describe()"
   ]
  },
  {
   "cell_type": "code",
   "execution_count": 16,
   "metadata": {},
   "outputs": [
    {
     "data": {
      "text/plain": [
       "Text(0.5, 1.0, 'After Scaling 1stFlrSF')"
      ]
     },
     "execution_count": 16,
     "metadata": {},
     "output_type": "execute_result"
    },
    {
     "data": {
      "image/png": "[encoded data removed]",
      "text/plain": [
       "<Figure size 1440x504 with 2 Axes>"
      ]
     },
     "metadata": {
      "needs_background": "light"
     },
     "output_type": "display_data"
    }
   ],
   "source": [
    "plt.figure(figsize=(20,7))\n",
    "sns.set(style=\"whitegrid\")\n",
    "\n",
    "#plot using matplotlib\n",
    "plt.subplot(1,2,1)   #arguments no of rows,columns, and index\n",
    "plt.hist(X_train[\"1stFlrSF\"],bins=50,ec=\"black\",color=\"#FFEB3B\")  #ec- edge color\n",
    "plt.ylabel(\"Frequency\",fontsize=16)\n",
    "plt.title(f\"Before Scaling LotFrontage\",fontsize=16)\n",
    "\n",
    "\n",
    "#plot using matplotlib\n",
    "plt.subplot(1,2,2)   #arguments no of rows,columns, and index\n",
    "plt.hist(X_train_scale[\"1stFlrSF\"],bins=50,ec=\"black\",color=\"#512DA8\")  #ec- edge color\n",
    "plt.xlabel(\"Price in Thousands\",fontsize=16)\n",
    "plt.ylabel(\"Frequency\",fontsize=16)\n",
    "plt.title(f\"After Scaling 1stFlrSF\",fontsize=16)"
   ]
  },
  {
   "cell_type": "code",
   "execution_count": null,
   "metadata": {},
   "outputs": [],
   "source": []
  }
 ],
 "metadata": {
  "kernelspec": {
   "display_name": "Python 3",
   "language": "python",
   "name": "python3"
  },
  "language_info": {
   "codemirror_mode": {
    "name": "ipython",
    "version": 3
   },
   "file_extension": ".py",
   "mimetype": "text/x-python",
   "name": "python",
   "nbconvert_exporter": "python",
   "pygments_lexer": "ipython3",
   "version": "3.7.6"
  }
 },
 "nbformat": 4,
 "nbformat_minor": 4
}
